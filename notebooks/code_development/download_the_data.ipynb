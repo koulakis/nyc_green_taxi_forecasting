{
 "cells": [
  {
   "cell_type": "markdown",
   "metadata": {},
   "source": [
    "# Download all green taxi data"
   ]
  },
  {
   "cell_type": "code",
   "execution_count": 20,
   "metadata": {},
   "outputs": [],
   "source": [
    "from pathlib import Path\n",
    "\n",
    "import pandas as pd\n",
    "import requests\n",
    "import time\n",
    "from tqdm import tqdm"
   ]
  },
  {
   "cell_type": "code",
   "execution_count": 33,
   "metadata": {},
   "outputs": [],
   "source": [
    "download_link_format = 'https://s3.amazonaws.com/nyc-tlc/trip+data/green_tripdata_{year}-{month}.csv'\n",
    "earliest_entry_date = pd.Timestamp('2013-08')\n",
    "latest_entry_date = pd.Timestamp('2020-07')\n",
    "entry_date_range = pd.date_range(earliest_entry_date, latest_entry_date, freq='M')\n",
    "download_links = [download_link_format.format(year=date.year, month=date.month) for date in entry_date_range]"
   ]
  },
  {
   "cell_type": "code",
   "execution_count": 26,
   "metadata": {},
   "outputs": [],
   "source": [
    "def download_entry(url, output_dir):\n",
    "    output_dir = Path(output_dir)\n",
    "    \n",
    "    try:\n",
    "        filename = Path(url).name\n",
    "        response = requests.get(url, allow_redirects=True)\n",
    "\n",
    "        with open(output_dir / filename, 'wb') as f:\n",
    "            f.write(response.content)\n",
    "    except Exception as e:\n",
    "        print(f'Failed to download from the url: {url}')\n",
    "        print(e)\n",
    "    finally:\n",
    "        time.sleep(1)  # Small wait in order to avoid spamming the nyc.gov website"
   ]
  },
  {
   "cell_type": "code",
   "execution_count": null,
   "metadata": {},
   "outputs": [],
   "source": [
    "def download_multiple_entries(urls, output_dir):\n",
    "    for url in tqdm(urls):\n",
    "        download_entry(url, output_dir)\n",
    "        \n",
    "    print('Download completed.')"
   ]
  }
 ],
 "metadata": {
  "kernelspec": {
   "display_name": "Python 3",
   "language": "python",
   "name": "python3"
  },
  "language_info": {
   "codemirror_mode": {
    "name": "ipython",
    "version": 3
   },
   "file_extension": ".py",
   "mimetype": "text/x-python",
   "name": "python",
   "nbconvert_exporter": "python",
   "pygments_lexer": "ipython3",
   "version": "3.7.4"
  }
 },
 "nbformat": 4,
 "nbformat_minor": 4
}
